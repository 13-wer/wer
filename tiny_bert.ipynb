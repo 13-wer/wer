{
  "cells": [
    {
      "cell_type": "markdown",
      "metadata": {
        "id": "TA5Rm8C_Jmjo"
      },
      "source": [
        "##  Learning Transfer | Tiny BERT 2"
      ]
    },
    {
      "cell_type": "markdown",
      "metadata": {
        "id": "aYdLk-fsdbSU"
      },
      "source": [
        "#### Libraries"
      ]
    },
    {
      "cell_type": "code",
      "execution_count": 18,
      "metadata": {
        "id": "3pSW76QUkFk9"
      },
      "outputs": [],
      "source": [
        "import torch\n",
        "import pandas as pd\n",
        "import matplotlib.pyplot as plt\n",
        "\n",
        "from torch.optim import AdamW\n",
        "from torch.utils.data import Dataset\n",
        "from torch.utils.data import DataLoader\n",
        "\n",
        "from sklearn.metrics import auc\n",
        "from sklearn.metrics import roc_curve\n",
        "from sklearn.model_selection import train_test_split\n",
        "\n",
        "\n",
        "import torch\n",
        "from transformers import BertTokenizer\n",
        "from transformers import T5TokenizerFast\n",
        "from transformers import AutoModelForSeq2SeqLM\n",
        "from transformers import BertForSequenceClassification\n",
        "\n",
        "from transformers import get_linear_schedule_with_warmup"
      ]
    },
    {
      "cell_type": "markdown",
      "metadata": {
        "id": "QmmVtXnTdi1D"
      },
      "source": [
        "#### Data"
      ]
    },
    {
      "cell_type": "code",
      "execution_count": 19,
      "metadata": {
        "colab": {
          "base_uri": "https://localhost:8080/"
        },
        "id": "1b3BCs0IdgGZ",
        "outputId": "b83bfb1d-f017-4de2-bafa-cd15fd6833c6"
      },
      "outputs": [
        {
          "name": "stdout",
          "output_type": "stream",
          "text": [
            "Data loaded. Rows: 6508\n"
          ]
        }
      ],
      "source": [
        "data = pd.read_excel('/content/hackaton_result_dataset.xlsx')\n",
        "print(\"Data loaded. Rows:\", len(data))"
      ]
    },
    {
      "cell_type": "code",
      "execution_count": 20,
      "metadata": {
        "id": "JhI6RW2zkGwS"
      },
      "outputs": [],
      "source": [
        "# split dataset\n",
        "train_texts, val_texts, train_labels, val_labels = train_test_split(data['model_annotation'].tolist(),\n",
        "                                                                    data['label'].tolist(),\n",
        "                                                                    test_size=0.2,\n",
        "                                                                    random_state=7)\n",
        "\n",
        "# initialise tokenizer\n",
        "tokenizer = BertTokenizer.from_pretrained('cointegrated/rubert-tiny2')\n",
        "\n",
        "# tokenize data\n",
        "train_encodings = tokenizer(train_texts, truncation=True, padding=True, max_length=512)\n",
        "val_encodings = tokenizer(val_texts, truncation=True, padding=True, max_length=512)\n"
      ]
    },
    {
      "cell_type": "code",
      "execution_count": 21,
      "metadata": {
        "id": "0c0oUzSIkJBc"
      },
      "outputs": [],
      "source": [
        "# define custom Dataset class\n",
        "class TextDataset(Dataset):\n",
        "    def __init__(self, encodings, labels):\n",
        "        self.encodings = encodings\n",
        "        self.labels = labels\n",
        "\n",
        "    def __getitem__(self, idx):\n",
        "        item = {key: torch.tensor(val[idx]) for key, val in self.encodings.items()}\n",
        "        item['labels'] = torch.tensor(self.labels[idx])\n",
        "        return item\n",
        "\n",
        "    def __len__(self):\n",
        "        return len(self.labels)\n",
        "\n",
        "# create Dataset objects\n",
        "train_dataset = TextDataset(train_encodings, train_labels)\n",
        "val_dataset = TextDataset(val_encodings, val_labels)\n",
        "\n",
        "# create DataLoader objects\n",
        "train_loader = DataLoader(train_dataset, batch_size=16, shuffle=True)\n",
        "val_loader = DataLoader(val_dataset, batch_size=16)"
      ]
    },
    {
      "cell_type": "markdown",
      "metadata": {
        "id": "7FGrXy94iTY7"
      },
      "source": [
        "#### Model"
      ]
    },
    {
      "cell_type": "code",
      "execution_count": 22,
      "metadata": {
        "colab": {
          "base_uri": "https://localhost:8080/"
        },
        "id": "1YyJgBH9kLd2",
        "outputId": "2340a7d9-064b-4f74-92a4-13539e343b63"
      },
      "outputs": [
        {
          "name": "stderr",
          "output_type": "stream",
          "text": [
            "Some weights of BertForSequenceClassification were not initialized from the model checkpoint at cointegrated/rubert-tiny2 and are newly initialized: ['classifier.bias', 'classifier.weight']\n",
            "You should probably TRAIN this model on a down-stream task to be able to use it for predictions and inference.\n"
          ]
        }
      ],
      "source": [
        "# load pre-trained BERT\n",
        "model = BertForSequenceClassification.from_pretrained('cointegrated/rubert-tiny2', num_labels=2)\n",
        "\n",
        "# initialize optimizer\n",
        "optimizer = AdamW(model.parameters(), lr=5e-5, weight_decay=0.01)\n",
        "\n",
        "# initialize learning rate scheduler\n",
        "total_steps = len(train_loader) * 10\n",
        "scheduler = get_linear_schedule_with_warmup(optimizer, num_warmup_steps=0, num_training_steps=total_steps)"
      ]
    },
    {
      "cell_type": "code",
      "execution_count": 23,
      "metadata": {
        "colab": {
          "base_uri": "https://localhost:8080/"
        },
        "id": "P5UhKsujiTY8",
        "outputId": "c0b8d887-28f3-4eec-f617-d4b960bc8c68"
      },
      "outputs": [
        {
          "data": {
            "text/plain": [
              "BertForSequenceClassification(\n",
              "  (bert): BertModel(\n",
              "    (embeddings): BertEmbeddings(\n",
              "      (word_embeddings): Embedding(83828, 312, padding_idx=0)\n",
              "      (position_embeddings): Embedding(2048, 312)\n",
              "      (token_type_embeddings): Embedding(2, 312)\n",
              "      (LayerNorm): LayerNorm((312,), eps=1e-12, elementwise_affine=True)\n",
              "      (dropout): Dropout(p=0.1, inplace=False)\n",
              "    )\n",
              "    (encoder): BertEncoder(\n",
              "      (layer): ModuleList(\n",
              "        (0-2): 3 x BertLayer(\n",
              "          (attention): BertAttention(\n",
              "            (self): BertSelfAttention(\n",
              "              (query): Linear(in_features=312, out_features=312, bias=True)\n",
              "              (key): Linear(in_features=312, out_features=312, bias=True)\n",
              "              (value): Linear(in_features=312, out_features=312, bias=True)\n",
              "              (dropout): Dropout(p=0.1, inplace=False)\n",
              "            )\n",
              "            (output): BertSelfOutput(\n",
              "              (dense): Linear(in_features=312, out_features=312, bias=True)\n",
              "              (LayerNorm): LayerNorm((312,), eps=1e-12, elementwise_affine=True)\n",
              "              (dropout): Dropout(p=0.1, inplace=False)\n",
              "            )\n",
              "          )\n",
              "          (intermediate): BertIntermediate(\n",
              "            (dense): Linear(in_features=312, out_features=600, bias=True)\n",
              "            (intermediate_act_fn): GELUActivation()\n",
              "          )\n",
              "          (output): BertOutput(\n",
              "            (dense): Linear(in_features=600, out_features=312, bias=True)\n",
              "            (LayerNorm): LayerNorm((312,), eps=1e-12, elementwise_affine=True)\n",
              "            (dropout): Dropout(p=0.1, inplace=False)\n",
              "          )\n",
              "        )\n",
              "      )\n",
              "    )\n",
              "    (pooler): BertPooler(\n",
              "      (dense): Linear(in_features=312, out_features=312, bias=True)\n",
              "      (activation): Tanh()\n",
              "    )\n",
              "  )\n",
              "  (dropout): Dropout(p=0.1, inplace=False)\n",
              "  (classifier): Linear(in_features=312, out_features=2, bias=True)\n",
              ")"
            ]
          },
          "execution_count": 23,
          "metadata": {},
          "output_type": "execute_result"
        }
      ],
      "source": [
        "# set device\n",
        "device = torch.device(\"cuda\" if torch.cuda.is_available() else \"cpu\")\n",
        "model.to(device)"
      ]
    },
    {
      "cell_type": "code",
      "execution_count": 24,
      "metadata": {
        "id": "MrlHgZG-iTY8"
      },
      "outputs": [],
      "source": [
        "# early stopping parameters\n",
        "best_val_loss = float('inf')\n",
        "patience = 3\n",
        "trigger_times = 0"
      ]
    },
    {
      "cell_type": "markdown",
      "metadata": {
        "id": "DA6RUblyiTY8"
      },
      "source": [
        "#### Training"
      ]
    },
    {
      "cell_type": "code",
      "execution_count": 25,
      "metadata": {
        "colab": {
          "base_uri": "https://localhost:8080/"
        },
        "id": "0dAhSvqFkN0m",
        "outputId": "d237f9ae-1763-4a39-fd3a-2334658d1702"
      },
      "outputs": [
        {
          "name": "stdout",
          "output_type": "stream",
          "text": [
            "Epoch 1, Training Loss: 0.6208, Validation Loss: 0.6017, Validation Accuracy: 67.74%\n",
            "Epoch 2, Training Loss: 0.5418, Validation Loss: 0.5996, Validation Accuracy: 69.20%\n",
            "Epoch 3, Training Loss: 0.4476, Validation Loss: 0.6326, Validation Accuracy: 68.43%\n",
            "Epoch 4, Training Loss: 0.3340, Validation Loss: 0.7099, Validation Accuracy: 68.89%\n",
            "Epoch 5, Training Loss: 0.2357, Validation Loss: 0.8528, Validation Accuracy: 68.66%\n",
            "Early stopping at epoch 5\n",
            "Best Validation Accuracy: 69.20%\n"
          ]
        }
      ],
      "source": [
        "# training loop\n",
        "for epoch in range(10):\n",
        "    model.train()\n",
        "    total_train_loss = 0\n",
        "\n",
        "    # process each batch of training data\n",
        "    for batch in train_loader:\n",
        "        optimizer.zero_grad()\n",
        "        input_ids = batch['input_ids'].to(device)\n",
        "        attention_mask = batch['attention_mask'].to(device)\n",
        "        labels = batch['labels'].to(device)\n",
        "\n",
        "        # forward pass and loss calculation\n",
        "        outputs = model(input_ids, attention_mask=attention_mask, labels=labels)\n",
        "        loss = outputs.loss\n",
        "        loss.backward()\n",
        "        optimizer.step()\n",
        "        scheduler.step()\n",
        "\n",
        "        total_train_loss += loss.item()\n",
        "\n",
        "    avg_train_loss = total_train_loss / len(train_loader)\n",
        "\n",
        "    # evaluation mode for model\n",
        "    model.eval()\n",
        "    total_val_loss = 0\n",
        "    correct = 0\n",
        "    total = 0\n",
        "    all_labels = []\n",
        "    all_preds = []\n",
        "\n",
        "    # process each batch of validation data\n",
        "    with torch.no_grad():\n",
        "        for batch in val_loader:\n",
        "            input_ids = batch['input_ids'].to(device)\n",
        "            attention_mask = batch['attention_mask'].to(device)\n",
        "            labels = batch['labels'].to(device)\n",
        "\n",
        "            # forward pass and loss calculation\n",
        "            outputs = model(input_ids, attention_mask=attention_mask, labels=labels)\n",
        "            loss = outputs.loss\n",
        "            total_val_loss += loss.item()\n",
        "\n",
        "            # prediction and accuracy calculation\n",
        "            _, predicted = torch.max(outputs.logits, dim=1)\n",
        "            total += labels.size(0)\n",
        "            correct += (predicted == labels).sum().item()\n",
        "            all_labels.extend(labels.cpu().numpy())\n",
        "            all_preds.extend(outputs.logits[:, 1].cpu().numpy())\n",
        "\n",
        "    avg_val_loss = total_val_loss / len(val_loader)\n",
        "    accuracy = 100 * correct / total\n",
        "\n",
        "    # print training and validation results\n",
        "    print(f\"Epoch {epoch + 1}, Training Loss: {avg_train_loss:.4f}, Validation Loss: {avg_val_loss:.4f}, Validation Accuracy: {accuracy:.2f}%\")\n",
        "\n",
        "    # save best model\n",
        "    if avg_val_loss < best_val_loss:\n",
        "        best_val_loss = avg_val_loss\n",
        "        best_accuracy = accuracy\n",
        "        torch.save(model.state_dict(), 'best_model.pt')\n",
        "        trigger_times = 0\n",
        "    else:\n",
        "        trigger_times += 1\n",
        "        # early stopping\n",
        "        if trigger_times >= patience:\n",
        "            print(f\"Early stopping at epoch {epoch + 1}\")\n",
        "            break\n",
        "\n",
        "# print best validation accuracy\n",
        "print(f\"Best Validation Accuracy: {best_accuracy:.2f}%\")"
      ]
    },
    {
      "cell_type": "code",
      "execution_count": 26,
      "metadata": {
        "colab": {
          "base_uri": "https://localhost:8080/",
          "height": 472
        },
        "id": "hb7zKKTZkPlK",
        "outputId": "e9d7f67d-5e34-4d5c-d76d-068711c1cade"
      },
      "outputs": [
        {
          "data": {
            "image/png": "[encoded data removed]",
            "text/plain": [
              "<Figure size 640x480 with 1 Axes>"
            ]
          },
          "metadata": {},
          "output_type": "display_data"
        }
      ],
      "source": [
        "# reload the best model\n",
        "model.load_state_dict(torch.load('best_model.pt'))\n",
        "\n",
        "# evaluate on validation set to compute ROC AUC\n",
        "model.eval()\n",
        "all_labels = []\n",
        "all_preds = []\n",
        "\n",
        "with torch.no_grad():\n",
        "    for batch in val_loader:\n",
        "        input_ids = batch['input_ids'].to(device)\n",
        "        attention_mask = batch['attention_mask'].to(device)\n",
        "        labels = batch['labels'].to(device)\n",
        "        outputs = model(input_ids, attention_mask=attention_mask)\n",
        "        all_labels.extend(labels.cpu().numpy())\n",
        "        all_preds.extend(outputs.logits[:, 1].cpu().numpy())\n",
        "\n",
        "fpr, tpr, _ = roc_curve(all_labels, all_preds)\n",
        "roc_auc = auc(fpr, tpr)\n",
        "\n",
        "# plot ROC AUC\n",
        "plt.figure()\n",
        "plt.plot(fpr, tpr, color='red', lw=2, label=f'ROC curve (area = {roc_auc:.2f})')\n",
        "plt.plot([0, 1], [0, 1], color='navy', lw=2, linestyle='--')\n",
        "plt.xlim([0.0, 1.0])\n",
        "plt.ylim([0.0, 1.05])\n",
        "plt.xlabel('False Positive Rate')\n",
        "plt.ylabel('True Positive Rate')\n",
        "plt.title('Receiver Operating Characteristic')\n",
        "plt.legend(loc=\"lower right\")\n",
        "plt.show()"
      ]
    },
    {
      "cell_type": "markdown",
      "metadata": {
        "id": "Tdg__Whn-Ti9"
      },
      "source": [
        "## Text Correction | T5"
      ]
    },
    {
      "cell_type": "code",
      "execution_count": 27,
      "metadata": {
        "id": "FIMuAroDiTY-"
      },
      "outputs": [],
      "source": [
        "# model\n",
        "spell_model = 'UrukHan/t5-russian-spell'"
      ]
    },
    {
      "cell_type": "code",
      "execution_count": 28,
      "metadata": {
        "id": "oohXWdkliTY_"
      },
      "outputs": [],
      "source": [
        "# load model and tokenizer\n",
        "try:\n",
        "    spell_tokenizer = T5TokenizerFast.from_pretrained(spell_model)\n",
        "    spell_model = AutoModelForSeq2SeqLM.from_pretrained(spell_model)\n",
        "    print(\"Model and tokenizer loaded.\")\n",
        "except Exception as e:\n",
        "    print(\"Error loading model or tokenizer:\", e)"
      ]
    },
    {
      "cell_type": "code",
      "execution_count": 29,
      "metadata": {
        "collapsed": true,
        "id": "mMTTKZGt-435"
      },
      "outputs": [],
      "source": [
        "# function to correct spelling\n",
        "def correct_spelling(row):\n",
        "    try:\n",
        "        text = row['model_annotation']\n",
        "        index = row.name\n",
        "        task_prefix = \"Spell correct: \"\n",
        "        encoded = spell_tokenizer(\n",
        "            task_prefix + text,\n",
        "            padding=\"max_length\",\n",
        "            max_length=256,\n",
        "            truncation=True,\n",
        "            return_tensors=\"pt\",\n",
        "        )\n",
        "        predicts = spell_model.generate(encoded['input_ids'])\n",
        "        corrected_text = spell_tokenizer.decode(predicts[0], skip_special_tokens=True)\n",
        "        if index % 10 == 0:  # show progress every 10 rows\n",
        "            print(f\"Processed row {index}\")\n",
        "        return corrected_text\n",
        "    except Exception as e:\n",
        "        print(f\"Error in spelling correction for row {index}: {text}\", e)\n",
        "        return text"
      ]
    },
    {
      "cell_type": "code",
      "execution_count": 30,
      "metadata": {
        "id": "VisLM_vZiTY_"
      },
      "outputs": [],
      "source": [
        "# apply correction to 'model_annotation' column\n",
        "if 'model_annotation' in data.columns:\n",
        "    data['corrected_annotation'] = data.apply(correct_spelling, axis=1)\n",
        "    print(\"Spelling correction done.\")\n",
        "else:\n",
        "    print(\"'model_annotation' column not in data.\")"
      ]
    },
    {
      "cell_type": "code",
      "execution_count": 31,
      "metadata": {
        "id": "4D-nGI2WcKdz"
      },
      "outputs": [],
      "source": [
        "# save as .csv\n",
        "output_file_path = '/content/corrected_data.csv'\n",
        "data.to_csv(output_file_path, index=False)"
      ]
    }
  ],
  "metadata": {
    "accelerator": "GPU",
    "colab": {
      "gpuType": "T4",
      "provenance": []
    },
    "kernelspec": {
      "display_name": "Python 3",
      "name": "python3"
    },
    "language_info": {
      "name": "python"
    }
  },
  "nbformat": 4,
  "nbformat_minor": 0
}
